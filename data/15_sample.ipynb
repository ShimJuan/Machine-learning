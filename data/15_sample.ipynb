{
 "cells": [
  {
   "cell_type": "code",
   "execution_count": 1,
   "metadata": {},
   "outputs": [],
   "source": [
    "import tensorflow as tf\n",
    "import numpy as np\n",
    "import pandas as pd\n",
    "from sklearn import datasets\n",
    "import matplotlib.pyplot as plt"
   ]
  },
  {
   "cell_type": "code",
   "execution_count": 2,
   "metadata": {},
   "outputs": [],
   "source": [
    "data = [[828, 920, 1234567, 1020, 1111],\n",
    "\n",
    "            [824, 910, 2345612, 1090, 1234],\n",
    "\n",
    "            [880, 900, 3456123, 1010, 1000],\n",
    "\n",
    "            [870, 990, 2312123, 1001, 1122],\n",
    "\n",
    "            [860, 980, 3223123, 1008, 1133],\n",
    "\n",
    "            [850, 970, 2432123, 1100, 1221]]\n",
    "\n",
    "data = np.float32(data)"
   ]
  },
  {
   "cell_type": "code",
   "execution_count": 7,
   "metadata": {},
   "outputs": [],
   "source": [
    "# data[:, :-1]  : 0<=col<-1 \n",
    "xdata = data[:,:-1]\n",
    "ydata = data[:,[-1]]"
   ]
  },
  {
   "cell_type": "code",
   "execution_count": 8,
   "metadata": {},
   "outputs": [
    {
     "data": {
      "text/plain": [
       "array([[8.280000e+02, 9.200000e+02, 1.234567e+06, 1.020000e+03],\n",
       "       [8.240000e+02, 9.100000e+02, 2.345612e+06, 1.090000e+03],\n",
       "       [8.800000e+02, 9.000000e+02, 3.456123e+06, 1.010000e+03],\n",
       "       [8.700000e+02, 9.900000e+02, 2.312123e+06, 1.001000e+03],\n",
       "       [8.600000e+02, 9.800000e+02, 3.223123e+06, 1.008000e+03],\n",
       "       [8.500000e+02, 9.700000e+02, 2.432123e+06, 1.100000e+03]],\n",
       "      dtype=float32)"
      ]
     },
     "execution_count": 8,
     "metadata": {},
     "output_type": "execute_result"
    }
   ],
   "source": [
    "xdata"
   ]
  },
  {
   "cell_type": "code",
   "execution_count": 9,
   "metadata": {},
   "outputs": [
    {
     "data": {
      "text/plain": [
       "array([[1111.],\n",
       "       [1234.],\n",
       "       [1000.],\n",
       "       [1122.],\n",
       "       [1133.],\n",
       "       [1221.]], dtype=float32)"
      ]
     },
     "execution_count": 9,
     "metadata": {},
     "output_type": "execute_result"
    }
   ],
   "source": [
    "ydata"
   ]
  },
  {
   "cell_type": "code",
   "execution_count": null,
   "metadata": {},
   "outputs": [],
   "source": []
  }
 ],
 "metadata": {
  "kernelspec": {
   "display_name": "Python 3",
   "language": "python",
   "name": "python3"
  },
  "language_info": {
   "codemirror_mode": {
    "name": "ipython",
    "version": 3
   },
   "file_extension": ".py",
   "mimetype": "text/x-python",
   "name": "python",
   "nbconvert_exporter": "python",
   "pygments_lexer": "ipython3",
   "version": "3.7.6"
  }
 },
 "nbformat": 4,
 "nbformat_minor": 4
}
